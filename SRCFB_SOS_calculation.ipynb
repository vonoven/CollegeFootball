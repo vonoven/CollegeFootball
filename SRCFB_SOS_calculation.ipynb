{
 "cells": [
  {
   "cell_type": "code",
   "execution_count": 1,
   "metadata": {},
   "outputs": [],
   "source": [
    "import pandas as pd\n",
    "from jobs import SRfeatures, SRSOS\n",
    "\n",
    "first_year = 2014\n",
    "\n",
    "conference_mstr = pd.read_csv('/Users/markvonoven/Projects/CollegeFootball/input/conference_master.csv')\n",
    "past_games= pd.read_csv('/Users/markvonoven/Projects/CollegeFootball/SRoutput/past_games_w_features.csv')\n",
    "past_games.set_index('Season', inplace=True)\n",
    "past_games['Date'] = pd.to_datetime(past_games['Date'])\n",
    "past_games = past_games.sort_values(by=['Date'])"
   ]
  },
  {
   "cell_type": "code",
   "execution_count": 2,
   "metadata": {},
   "outputs": [],
   "source": [
    "date = pd.Timestamp(2018, 11, 1, 19)\n",
    "team = 'Central Florida'"
   ]
  },
  {
   "cell_type": "code",
   "execution_count": 5,
   "metadata": {},
   "outputs": [
    {
     "data": {
      "text/plain": [
       "0.456"
      ]
     },
     "execution_count": 5,
     "metadata": {},
     "output_type": "execute_result"
    }
   ],
   "source": [
    "SRSOS.strength_of_schedule(team, date)"
   ]
  },
  {
   "cell_type": "code",
   "execution_count": null,
   "metadata": {},
   "outputs": [],
   "source": [
    "past_games['Team_SOS'] = past_games.apply(lambda x: strength_of_schedule(past_games, \n",
    "                                                                         x['Team'], x['Date']), axis=1)\n",
    "past_games['Opp_SOS'] = past_games.apply(lambda x: strength_of_schedule(past_games, \n",
    "                                                                         x['Opp'], x['Date']), axis=1)"
   ]
  },
  {
   "cell_type": "code",
   "execution_count": null,
   "metadata": {},
   "outputs": [],
   "source": [
    "past_games.to_csv('./SRinput/current/past_games_w_SOS.csv')"
   ]
  },
  {
   "cell_type": "code",
   "execution_count": null,
   "metadata": {},
   "outputs": [],
   "source": []
  },
  {
   "cell_type": "code",
   "execution_count": null,
   "metadata": {},
   "outputs": [],
   "source": []
  }
 ],
 "metadata": {
  "kernelspec": {
   "display_name": "Python 3",
   "language": "python",
   "name": "python3"
  },
  "language_info": {
   "codemirror_mode": {
    "name": "ipython",
    "version": 3
   },
   "file_extension": ".py",
   "mimetype": "text/x-python",
   "name": "python",
   "nbconvert_exporter": "python",
   "pygments_lexer": "ipython3",
   "version": "3.6.7"
  }
 },
 "nbformat": 4,
 "nbformat_minor": 2
}
