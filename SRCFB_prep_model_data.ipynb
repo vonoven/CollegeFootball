{
 "cells": [
  {
   "cell_type": "markdown",
   "metadata": {},
   "source": [
    "# Prep data for modeling by pulling current season in realtime\n",
    "### NOTE:  this requires an updated history file, which must be manually refreshed each season)"
   ]
  },
  {
   "cell_type": "code",
   "execution_count": null,
   "metadata": {},
   "outputs": [],
   "source": [
    "#Only run this code if you need to update the history file\n",
    "from jobs import SRjobs\n",
    "SRjobs.create_history()"
   ]
  },
  {
   "cell_type": "markdown",
   "metadata": {},
   "source": [
    "### Run the next section every time you add new feature engineering, so both past/future games will get it"
   ]
  },
  {
   "cell_type": "code",
   "execution_count": 1,
   "metadata": {},
   "outputs": [
    {
     "name": "stdout",
     "output_type": "stream",
     "text": [
      "Initiate get_season_played_games\n",
      "Finished scraping 2018 schedule with 845 rows\n",
      "Successfully loaded 828.0 played games from 2018\n",
      "Initiate get_season_future_games\n",
      "Finished scraping 2018 schedule with 845 rows\n",
      "Successfully loaded future_mstr with 17 remaining games in 2018\n"
     ]
    }
   ],
   "source": [
    "from jobs import SRjobs, SRfeatures\n",
    "import pandas as pd\n",
    "schedule_mstr = SRjobs.get_season_played_games()\n",
    "future_mstr = SRjobs.get_season_future_games()\n",
    "history = SRjobs.get_history()"
   ]
  },
  {
   "cell_type": "code",
   "execution_count": 2,
   "metadata": {},
   "outputs": [
    {
     "name": "stdout",
     "output_type": "stream",
     "text": [
      "Applying features to games already played\n",
      "Added Game_conf\n",
      "Added Team_SRTD\n",
      "Added Team_CRTD\n",
      "Added Opp_SRTD\n",
      "Added Opp_CRTD\n",
      "Added Team_OffStrat\n",
      "Added Opp_OffStrat\n",
      "Added Team_DefStren\n",
      "Added Opp_DefStren\n",
      "Applying features to future games\n",
      "Added Game_conf\n",
      "Added Team_SRTD\n",
      "Added Team_CRTD\n",
      "Added Opp_SRTD\n",
      "Added Opp_CRTD\n",
      "Added Team_OffStrat\n",
      "Added Opp_OffStrat\n",
      "Added Team_DefStren\n",
      "Added Opp_DefStren\n"
     ]
    }
   ],
   "source": [
    "full_history = pd.concat([history, schedule_mstr])\n",
    "print('Applying features to games already played')\n",
    "full_history = SRfeatures.apply_features(full_history)\n",
    "all_time = pd.concat([full_history, future_mstr], sort=True)\n",
    "print('Applying features to future games')\n",
    "future_mstr = SRfeatures.apply_future_features(future_mstr, all_time)"
   ]
  },
  {
   "cell_type": "markdown",
   "metadata": {},
   "source": [
    "### Normalize any features which require it"
   ]
  },
  {
   "cell_type": "code",
   "execution_count": 6,
   "metadata": {},
   "outputs": [
    {
     "name": "stdout",
     "output_type": "stream",
     "text": [
      "Normalized Team_OffStrat on full_history\n",
      "Normalized Team_OffStrat on future_mstr\n",
      "Normalized Opp_OffStrat on full_history\n",
      "Normalized Opp_OffStrat on future_mstr\n",
      "Normalized Team_DefStren on full_history\n",
      "Normalized Team_DefStren on future_mstr\n",
      "Normalized Opp_DefStren on full_history\n",
      "Normalized Opp_DefStren on future_mstr\n"
     ]
    }
   ],
   "source": [
    "def nz_num(num, feature):\n",
    "    min_DFS = min(full_history[feature])\n",
    "    max_DFS = max(full_history[feature])\n",
    "    return (num-min_DFS)/(max_DFS - min_DFS)\n",
    "\n",
    "def nz_features(feature_list):\n",
    "    for feature in feature_list:\n",
    "        \n",
    "        full_history[feature + '_nz'] = full_history.apply(lambda x: \n",
    "                                                      nz_num(x[feature], feature), axis=1)\n",
    "        print('Normalized ' + feature + ' on full_history')\n",
    "        future_mstr[feature + '_nz'] = future_mstr.apply(lambda x: \n",
    "                                                      nz_num(x[feature], feature), axis=1)\n",
    "        print('Normalized ' + feature + ' on future_mstr')\n",
    "        full_history.drop(feature, axis=1, inplace=True)\n",
    "        future_mstr.drop(feature, axis=1, inplace=True)\n",
    "\n",
    "feature_list = ['Team_OffStrat', 'Opp_OffStrat', 'Team_DefStren', 'Opp_DefStren']\n",
    "\n",
    "nz_features(feature_list)"
   ]
  },
  {
   "cell_type": "code",
   "execution_count": 8,
   "metadata": {},
   "outputs": [],
   "source": [
    "full_history.to_csv('./SRinput/current/past_games.csv')"
   ]
  },
  {
   "cell_type": "code",
   "execution_count": 9,
   "metadata": {},
   "outputs": [],
   "source": [
    "future_mstr.to_csv('./SRinput/current/future_games.csv')"
   ]
  },
  {
   "cell_type": "code",
   "execution_count": null,
   "metadata": {},
   "outputs": [],
   "source": []
  },
  {
   "cell_type": "code",
   "execution_count": null,
   "metadata": {},
   "outputs": [],
   "source": []
  }
 ],
 "metadata": {
  "kernelspec": {
   "display_name": "Python 3",
   "language": "python",
   "name": "python3"
  },
  "language_info": {
   "codemirror_mode": {
    "name": "ipython",
    "version": 3
   },
   "file_extension": ".py",
   "mimetype": "text/x-python",
   "name": "python",
   "nbconvert_exporter": "python",
   "pygments_lexer": "ipython3",
   "version": "3.6.7"
  }
 },
 "nbformat": 4,
 "nbformat_minor": 2
}
