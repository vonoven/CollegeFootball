{
 "cells": [
  {
   "cell_type": "code",
   "execution_count": 1,
   "metadata": {},
   "outputs": [
    {
     "name": "stdout",
     "output_type": "stream",
     "text": [
      "Initiate get_season_played_games\n",
      "Finished scraping 2018 schedule with 845 rows\n",
      "Successfully loaded 828.0 played games from 2018\n",
      "Initiate get_season_future_games\n",
      "Finished scraping 2018 schedule with 845 rows\n",
      "Successfully loaded future_mstr with 17 remaining games in 2018\n"
     ]
    }
   ],
   "source": [
    "from jobs import SRjobs, SRfeatures\n",
    "import pandas as pd\n",
    "schedule_mstr = SRjobs.get_season_played_games()\n",
    "future_mstr = SRjobs.get_season_future_games()\n",
    "history = SRjobs.get_history()"
   ]
  },
  {
   "cell_type": "code",
   "execution_count": 2,
   "metadata": {},
   "outputs": [
    {
     "name": "stdout",
     "output_type": "stream",
     "text": [
      "Applying features to games already played\n",
      "Added Game_conf\n",
      "Added Team_SRTD\n",
      "Added Team_CRTD\n",
      "Added Opp_SRTD\n",
      "Added Opp_CRTD\n",
      "Applying features to future games\n",
      "Added Game_conf\n",
      "Added Team_SRTD\n",
      "Added Team_CRTD\n",
      "Added Opp_SRTD\n",
      "Added Opp_CRTD\n"
     ]
    }
   ],
   "source": [
    "full_history = pd.concat([history, schedule_mstr])\n",
    "print('Applying features to games already played')\n",
    "full_history = SRfeatures.apply_features(full_history)\n",
    "all_time = pd.concat([full_history, future_mstr], sort=True)\n",
    "print('Applying features to future games')\n",
    "future_mstr = SRfeatures.apply_future_features(future_mstr, all_time)"
   ]
  },
  {
   "cell_type": "code",
   "execution_count": 5,
   "metadata": {},
   "outputs": [],
   "source": [
    "full_history.to_csv('./SRinput/current/past_games.csv')"
   ]
  },
  {
   "cell_type": "code",
   "execution_count": 4,
   "metadata": {},
   "outputs": [],
   "source": [
    "future_mstr.to_csv('./SRinput/current/future_games.csv')"
   ]
  }
 ],
 "metadata": {
  "kernelspec": {
   "display_name": "Python 3",
   "language": "python",
   "name": "python3"
  },
  "language_info": {
   "codemirror_mode": {
    "name": "ipython",
    "version": 3
   },
   "file_extension": ".py",
   "mimetype": "text/x-python",
   "name": "python",
   "nbconvert_exporter": "python",
   "pygments_lexer": "ipython3",
   "version": "3.6.7"
  }
 },
 "nbformat": 4,
 "nbformat_minor": 2
}
